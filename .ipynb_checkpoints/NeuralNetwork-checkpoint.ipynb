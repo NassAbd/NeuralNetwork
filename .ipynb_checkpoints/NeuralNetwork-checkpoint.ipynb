{
 "cells": [
  {
   "cell_type": "markdown",
   "id": "222257a1",
   "metadata": {},
   "source": [
    "# Construction d'un réseau de neurones"
   ]
  },
  {
   "cell_type": "markdown",
   "id": "f25c2540",
   "metadata": {},
   "source": [
    "Un réseau de neurones artificiels est un modèle computationnel inspiré par le fonctionnement du cerveau humain, utilisé pour des tâches d'apprentissage automatique.\n",
    "\n",
    "### Composants d'un réseau de neurones\n",
    "\n",
    "1. **Neurones (Nœuds) :**\n",
    "   - **Unité de base** : Chaque neurone reçoit des signaux d'entrée, les traite et transmet une sortie.\n",
    "   - **Fonction d'activation** : Appliquée à la somme pondérée des entrées, elle introduit de la non-linéarité au modèle. Des exemples incluent la sigmoïde, ReLU (Rectified Linear Unit), et tanh.\n",
    "\n",
    "2. **Couches :**\n",
    "   - **Couche d'entrée** : La première couche, recevant les données d'entrée. Chaque neurone dans cette couche représente une caractéristique d'entrée.\n",
    "   - **Couches cachées** : Une ou plusieurs couches situées entre l'entrée et la sortie. Elles permettent au réseau de capter des motifs complexes.\n",
    "   - **Couche de sortie** : La dernière couche, produisant la prédiction ou la sortie du modèle. Le nombre de neurones dans cette couche dépend de la tâche (par exemple, un neurone pour une tâche de classification binaire).\n",
    "\n",
    "3. **Poids et biais :**\n",
    "   - **Poids** : Coefficients associés aux connexions entre neurones. Ils modulent l'importance des signaux d'entrée.\n",
    "   - **Biais** : Valeur ajoutée à la somme pondérée des entrées pour chaque neurone, permettant de décaler la fonction d'activation.\n",
    "   \n",
    "   ![Local Image](images/schema_reseau.webp)\n",
    "\n",
    "### Fonctionnement d'un réseau de neurones\n",
    "\n",
    "1. **Propagation avant (Forward Propagation) :**\n",
    "   - **Calcul des sorties de chaque couche** : Les entrées sont multipliées par les poids, les biais sont ajoutés, puis une fonction d'activation est appliquée pour obtenir les sorties des neurones de chaque couche.\n",
    "   \n",
    "   ![Local Image](images/schema_reseau2.png)\n",
    "\n",
    "2. **Fonction de perte (Loss Function) :**\n",
    "   - **Évaluation de la performance** : Mesure l'écart entre les prédictions du réseau et les valeurs réelles. Des exemples incluent l'erreur quadratique moyenne (MSE) pour les tâches de régression et l'entropie croisée pour les tâches de classification.\n",
    "   \n",
    "   ![Local Image](images/loss_function.png)\n",
    "   ![Local Image](images/entropy.webp)\n",
    "\n",
    "3. **Rétropropagation (Backpropagation) :**\n",
    "   - **Calcul du gradient de la perte par rapport aux poids** : Utilise la dérivée de la fonction de perte pour déterminer comment ajuster les poids afin de minimiser l'erreur.\n",
    "   - **Propagation des gradients** : À partir de la couche de sortie, en remontant jusqu'à la couche d'entrée, les gradients sont calculés et appliqués à chaque couche.\n",
    "   - **Mise à jour des poids et biais** : Les poids et les biais sont ajustés en fonction des gradients calculés et d'un taux d'apprentissage (learning rate).\n",
    "   \n",
    "   ![Local Image](images/backpropagation.png)\n",
    "\n",
    "### Phases d'apprentissage\n",
    "\n",
    "1. **Initialisation :**\n",
    "   - Les poids sont initialisés aléatoirement ou selon une stratégie particulière pour briser la symétrie.\n",
    "\n",
    "2. **Entraînement :**\n",
    "   - **Propagation avant** : Les données d'entraînement sont passées à travers le réseau.\n",
    "   - **Calcul de la perte** : La fonction de perte évalue les prédictions du réseau.\n",
    "   - **Rétropropagation** : Les gradients de la perte sont calculés et les poids sont ajustés en conséquence.\n",
    "   - **Itération** : Ce processus est répété pour de nombreux cycles (époques) jusqu'à ce que la perte soit minimisée.\n",
    "\n",
    "3. **Validation et test :**\n",
    "   - **Validation croisée** : Les performances du réseau sont évaluées sur des données non vues pendant l'entraînement pour prévenir le surapprentissage (overfitting).\n",
    "   - **Test final** : Après l'entraînement, le réseau est testé sur un ensemble de test pour évaluer sa capacité à généraliser sur de nouvelles données.\n",
    "\n",
    "### Applications\n",
    "\n",
    "Les réseaux de neurones sont utilisés dans diverses applications, telles que :\n",
    "- **Reconnaissance d'images** : Classification d'images, détection d'objets.\n",
    "- **Traitement du langage naturel (NLP)** : Traduction automatique, analyse des sentiments.\n",
    "- **Prédiction de séries temporelles** : Prévisions financières, prévisions météorologiques.\n",
    "- **Jeux et simulation** : Agents intelligents pour les jeux vidéo, simulation d'environnements complexes.\n"
   ]
  },
  {
   "cell_type": "markdown",
   "id": "20c21e19",
   "metadata": {},
   "source": [
    "## Préparation des données"
   ]
  },
  {
   "cell_type": "code",
   "execution_count": 1,
   "id": "62ab2a34",
   "metadata": {},
   "outputs": [
    {
     "name": "stderr",
     "output_type": "stream",
     "text": [
      "C:\\Users\\abdal\\anaconda3\\lib\\site-packages\\scipy\\__init__.py:146: UserWarning: A NumPy version >=1.16.5 and <1.23.0 is required for this version of SciPy (detected version 1.26.4\n",
      "  warnings.warn(f\"A NumPy version >={np_minversion} and <{np_maxversion}\"\n"
     ]
    }
   ],
   "source": [
    "import pandas as pd\n",
    "import numpy as np\n",
    "import matplotlib.pyplot as plt\n",
    "import seaborn as sns\n",
    "from sklearn.preprocessing import LabelEncoder, StandardScaler\n",
    "# LabelEncoder transforme les étiquettes catégorielles en valeurs numériques\n",
    "# StandardScaler normalise les données pour améliorer la performance des algorithmes.\n",
    "from sklearn.model_selection import train_test_split\n",
    "from sklearn.model_selection import KFold\n",
    "# KFold permet de réaliser une validation croisée k-fold pour une évaluation robuste du modèle.\n",
    "\n",
    "# Charger les données\n",
    "data = pd.read_csv('IRIS.csv')\n",
    "\n",
    "# Séparer les caractéristiques et les étiquettes\n",
    "X = data[['sepal_length', 'sepal_width', 'petal_length', 'petal_width']].values\n",
    "y = data['species'].values\n",
    "\n",
    "# Encodage des étiquettes\n",
    "encoder = LabelEncoder()\n",
    "y = encoder.fit_transform(y)\n",
    "\n",
    "# Encodage one-hot\n",
    "y = np.eye(3)[y]  # 3 classes\n",
    "\n",
    "# Normalisation des caractéristiques\n",
    "scaler = StandardScaler()\n",
    "X = scaler.fit_transform(X)\n",
    "\n",
    "# Division des données en ensembles d'entraînement et de test\n",
    "X_train, X_test, y_train, y_test = train_test_split(X, y, test_size=0.2, random_state=42)\n",
    "\n"
   ]
  },
  {
   "cell_type": "markdown",
   "id": "93a1c3e4",
   "metadata": {},
   "source": [
    "## Fonction d'activation et de perte"
   ]
  },
  {
   "cell_type": "markdown",
   "id": "46fbd38b",
   "metadata": {},
   "source": [
    " - sigmoid(x) : La fonction sigmoïde est une fonction d'activation couramment utilisée dans les réseaux de neurones. Elle prend une entrée x et la transforme en une valeur comprise entre 0 et 1.\n",
    " \n",
    " À quoi ça sert ?\n",
    "\n",
    "    - Non-linéarité : La sigmoïde introduit de la non-linéarité dans le réseau, ce qui permet de modéliser des relations complexes.\n",
    "    \n",
    "    - Normalisation : Les valeurs de sortie étant limitées entre 0 et 1, cela aide à normaliser les valeurs et à les interpréter comme des probabilités.\n",
    "    \n",
    "    - Activation : Utilisée pour activer les neurones des couches cachées, déterminant ainsi leur contribution à la sortie du réseau.\n",
    "    \n",
    " - sigmoid_derivative(x) : La dérivée de la fonction sigmoïde mesure la sensibilité de la fonction à ses entrées. Elle indique comment la sortie de la sigmoïde change par rapport à une petite variation de l'entrée\n",
    " \n",
    " À quoi ça sert ?\n",
    "\n",
    "    - Rétropropagation : Pendant la rétropropagation, nous devons calculer les gradients pour mettre à jour les poids du réseau. La dérivée de la sigmoïde est utilisée pour cela.\n",
    "    \n",
    "    - Ajustement des Poids : Elle aide à déterminer de combien les poids doivent être ajustés pour minimiser l'erreur.\n",
    "    \n",
    " - softmax(x) : La fonction softmax est utilisée pour la couche de sortie des réseaux de neurones de classification multi-classes. Elle transforme un vecteur de valeurs en un vecteur de probabilités, où la somme des probabilités est égale à 1.\n",
    "\n",
    " À quoi ça sert ?\n",
    "\n",
    "    - Classification Multi-classes : Permet de prédire la probabilité que l'entrée appartienne à chaque classe.\n",
    "    - Probabilités : Les sorties sont interprétées comme des probabilités, ce qui facilite l'interprétation des résultats.\n",
    "    \n",
    " - cross_entropy_loss(y_true, y_pred) : La fonction de perte d'entropie croisée mesure la différence entre les distributions de probabilités prédite ( ypred ) et réelle ( ytrue ). Elle est utilisée pour évaluer la performance du modèle.\n",
    "\n",
    " À quoi ça sert ?\n",
    "\n",
    "    - Minimisation de l'Erreur : L'objectif de l'entraînement est de minimiser cette perte, afin que les prédictions du modèle soient aussi proches que possible des vraies étiquettes.\n",
    "    - Gradient Descent : La perte d'entropie croisée fournit une fonction à optimiser lors de la rétropropagation.\n",
    "    \n",
    "    \n",
    "Résumé\n",
    "\n",
    "    Sigmoïde : Introduit de la non-linéarité et normalise les sorties entre 0 et 1.\n",
    "    \n",
    "    Dérivée de la Sigmoïde : Utilisée pour calculer les gradients pendant la rétropropagation.\n",
    "    \n",
    "    Softmax : Transforme les sorties en probabilités, utilisée pour la classification multi-classes.\n",
    "    \n",
    "    Entropie Croisée : Mesure l'erreur de classification, utilisée comme fonction de perte à minimiser."
   ]
  },
  {
   "cell_type": "code",
   "execution_count": 2,
   "id": "2a215ab9",
   "metadata": {},
   "outputs": [],
   "source": [
    "def sigmoid(x):\n",
    "    return 1 / (1 + np.exp(-x))\n",
    "\n",
    "def sigmoid_derivative(x):\n",
    "    return x * (1 - x)\n",
    "\n",
    "def softmax(x):\n",
    "    exps = np.exp(x - np.max(x, axis=1, keepdims=True))\n",
    "    return exps / np.sum(exps, axis=1, keepdims=True)\n",
    "\n",
    "def cross_entropy_loss(y_true, y_pred):\n",
    "    return -np.mean(np.sum(y_true * np.log(y_pred + 1e-9), axis=1))\n"
   ]
  },
  {
   "cell_type": "markdown",
   "id": "0649d4f7",
   "metadata": {},
   "source": [
    "## Initialisation des paramètres\n",
    "\n",
    " Définition des Tailles des Couches : \n",
    " \n",
    " - input_size : Nombre de caractéristiques en entrée (nombre de colonnes dans X_train). Dans ce cas, nous avons quatre caractéristiques : sepal_length, sepal_width, petal_length et petal_width.\n",
    "\n",
    " - hidden_size : Nombre de neurones dans la couche cachée. Ici, nous avons arbitrairement choisi 10 neurones pour cette couche.\n",
    "\n",
    " - output_size : Nombre de classes de sortie (nombre de colonnes dans y_train). Puisque nous avons 3 espèces d'iris, output_size est 3.\n",
    " \n",
    " Initialisation des poids et biais\n",
    " \n",
    " - np.random.seed(42) : Fixe la graine du générateur de nombres aléatoires pour que les résultats soient reproductibles. En d'autres termes, chaque fois que vous exécutez le code, les mêmes nombres aléatoires seront générés.\n",
    " \n",
    " - weights_input_hidden : Matrice des poids reliant les neurones de la couche d'entrée aux neurones de la couche cachée. La taille de cette matrice est (input_size, hidden_size), c'est-à-dire (4, 10).\n",
    "\n",
    "     - Les valeurs sont initialisées aléatoirement à partir d'une distribution normale.\n",
    "\n",
    " - bias_hidden : Vecteur de biais pour la couche cachée. Sa taille est (1, hidden_size), c'est-à-dire (1, 10).\n",
    "\n",
    "     - Les valeurs sont initialisées à zéro.\n",
    "     \n",
    " - weights_hidden_output : Matrice des poids reliant les neurones de la couche cachée aux neurones de la couche de sortie. La taille de cette matrice est (hidden_size, output_size), c'est-à-dire (10, 3).\n",
    "\n",
    "     - Les valeurs sont initialisées aléatoirement à partir d'une distribution normale.\n",
    "\n",
    " - bias_output : Vecteur de biais pour la couche de sortie. Sa taille est (1, output_size), c'est-à-dire (1, 3).\n",
    "\n",
    "     - Les valeurs sont initialisées à zéro."
   ]
  },
  {
   "cell_type": "code",
   "execution_count": 3,
   "id": "c97012d9",
   "metadata": {},
   "outputs": [],
   "source": [
    "input_size = X_train.shape[1]\n",
    "hidden_size = 10  # Nombre de neurones dans la couche cachée\n",
    "output_size = y_train.shape[1]\n",
    "\n",
    "np.random.seed(42)\n",
    "\n",
    "weights_input_hidden = np.random.randn(input_size, hidden_size)\n",
    "bias_hidden = np.zeros((1, hidden_size))\n",
    "\n",
    "weights_hidden_output = np.random.randn(hidden_size, output_size)\n",
    "bias_output = np.zeros((1, output_size))\n"
   ]
  },
  {
   "cell_type": "markdown",
   "id": "ed4f1cd7",
   "metadata": {},
   "source": [
    "## Propagation avant\n",
    "\n",
    " - Entrées : Les données X passent à travers les poids et les biais pour chaque couche.\n",
    " - Transformations : Chaque couche effectue une transformation linéaire suivie d'une application de fonction d'activation.\n",
    " - Sorties : Le résultat final est une matrice de probabilités pour chaque classe, permettant de faire des prédictions."
   ]
  },
  {
   "cell_type": "code",
   "execution_count": 4,
   "id": "7abd78dc",
   "metadata": {},
   "outputs": [],
   "source": [
    "def forward_propagation(X):\n",
    "    z1 = np.dot(X, weights_input_hidden) + bias_hidden\n",
    "    a1 = sigmoid(z1)\n",
    "    z2 = np.dot(a1, weights_hidden_output) + bias_output\n",
    "    a2 = softmax(z2)\n",
    "    return z1, a1, z2, a2\n"
   ]
  },
  {
   "cell_type": "markdown",
   "id": "258d4f9f",
   "metadata": {},
   "source": [
    "## Rétropropagation\n",
    "\n",
    "et mise à jour des poids \n",
    "\n",
    "La rétropropagation (backpropagation) est l'étape où les gradients de la fonction de perte par rapport aux paramètres du réseau (poids et biais) sont calculés. Ces gradients sont ensuite utilisés pour ajuster les paramètres afin de minimiser la fonction de perte."
   ]
  },
  {
   "cell_type": "code",
   "execution_count": 5,
   "id": "165a0191",
   "metadata": {},
   "outputs": [],
   "source": [
    "def backward_propagation(X, y, z1, a1, z2, a2):\n",
    "    m = y.shape[0]\n",
    "    dz2 = a2 - y\n",
    "    dw2 = np.dot(a1.T, dz2) / m\n",
    "    db2 = np.sum(dz2, axis=0, keepdims=True) / m\n",
    "\n",
    "    dz1 = np.dot(dz2, weights_hidden_output.T) * sigmoid_derivative(a1)\n",
    "    dw1 = np.dot(X.T, dz1) / m\n",
    "    db1 = np.sum(dz1, axis=0, keepdims=True) / m\n",
    "\n",
    "    return dw1, db1, dw2, db2\n",
    "\n",
    "def update_parameters(dw1, db1, dw2, db2, learning_rate):\n",
    "    global weights_input_hidden, bias_hidden, weights_hidden_output, bias_output\n",
    "    weights_input_hidden -= learning_rate * dw1\n",
    "    bias_hidden -= learning_rate * db1\n",
    "    weights_hidden_output -= learning_rate * dw2\n",
    "    bias_output -= learning_rate * db2\n"
   ]
  },
  {
   "cell_type": "markdown",
   "id": "51c16128",
   "metadata": {},
   "source": [
    "## Entrainement du modèle"
   ]
  },
  {
   "cell_type": "code",
   "execution_count": 6,
   "id": "65e0be5f",
   "metadata": {},
   "outputs": [
    {
     "name": "stdout",
     "output_type": "stream",
     "text": [
      "Epoch 0, Loss: 1.222150296257761\n",
      "Epoch 100, Loss: 0.7924160627551444\n",
      "Epoch 200, Loss: 0.6422625566723449\n",
      "Epoch 300, Loss: 0.5703628126635825\n",
      "Epoch 400, Loss: 0.52389672928082\n",
      "Epoch 500, Loss: 0.4900745388188422\n",
      "Epoch 600, Loss: 0.46391578073892226\n",
      "Epoch 700, Loss: 0.44283398974156374\n",
      "Epoch 800, Loss: 0.4253103346200555\n",
      "Epoch 900, Loss: 0.4103871337085289\n"
     ]
    }
   ],
   "source": [
    "def train(X, y, epochs, learning_rate):\n",
    "    for epoch in range(epochs): # Epochs : Nombre de fois que le modèle va voir l'intégralité du jeu de données pendant l'entraînement\n",
    "        z1, a1, z2, a2 = forward_propagation(X)\n",
    "        dw1, db1, dw2, db2 = backward_propagation(X, y, z1, a1, z2, a2) # Obtenir les gradients nécessaires pour ajuster les poids et les biais afin de minimiser l'erreur\n",
    "        update_parameters(dw1, db1, dw2, db2, learning_rate)\n",
    "\n",
    "        if epoch % 100 == 0:\n",
    "            loss = cross_entropy_loss(y, a2) # fonction de perte à minimiser\n",
    "            print(f'Epoch {epoch}, Loss: {loss}')\n",
    "\n",
    "# Entraîner le modèle\n",
    "train(X_train, y_train, epochs=1000, learning_rate=0.01)\n"
   ]
  },
  {
   "cell_type": "markdown",
   "id": "8b7eb011",
   "metadata": {},
   "source": [
    "## Evaluation du modèle\n",
    "\n",
    "afin de valider la performance du réseau de neurones sur des données qu'il n'a pas vues pendant l'entraînement, ce qui est crucial pour évaluer sa capacité de généralisation."
   ]
  },
  {
   "cell_type": "code",
   "execution_count": 7,
   "id": "676c125a",
   "metadata": {},
   "outputs": [
    {
     "name": "stdout",
     "output_type": "stream",
     "text": [
      "Accuracy: 0.9333333333333333\n"
     ]
    }
   ],
   "source": [
    "def predict(X):\n",
    "    _, _, _, a2 = forward_propagation(X)\n",
    "    return np.argmax(a2, axis=1)\n",
    "\n",
    "# Prédictions sur l'ensemble de test\n",
    "y_pred = predict(X_test)\n",
    "y_true = np.argmax(y_test, axis=1)\n",
    "\n",
    "# Calcul de la précision\n",
    "accuracy = np.mean(y_pred == y_true)\n",
    "print(f'Accuracy: {accuracy}')\n"
   ]
  },
  {
   "cell_type": "markdown",
   "id": "db385adc",
   "metadata": {},
   "source": [
    "## Validation croisée\n",
    "\n",
    "La validation croisée est une méthode d'évaluation des performances d'un modèle en le testant sur plusieurs sous-ensembles des données."
   ]
  },
  {
   "cell_type": "code",
   "execution_count": 8,
   "id": "c837a852",
   "metadata": {},
   "outputs": [
    {
     "name": "stdout",
     "output_type": "stream",
     "text": [
      "################### ITERATION  1 ###################\n",
      "Epoch 0, Loss: 1.2673754648586921\n",
      "Epoch 100, Loss: 0.7937794165686868\n",
      "Epoch 200, Loss: 0.6403415050491592\n",
      "Epoch 300, Loss: 0.5683647998731604\n",
      "Epoch 400, Loss: 0.5216778653567209\n",
      "Epoch 500, Loss: 0.4875748726059214\n",
      "Epoch 600, Loss: 0.461133057905937\n",
      "Epoch 700, Loss: 0.43978478694886725\n",
      "Epoch 800, Loss: 0.42201723466113467\n",
      "Epoch 900, Loss: 0.4068737352979289\n",
      "################### ITERATION  2 ###################\n",
      "Epoch 0, Loss: 1.2027918478606554\n",
      "Epoch 100, Loss: 0.7883151206089579\n",
      "Epoch 200, Loss: 0.6381780902107793\n",
      "Epoch 300, Loss: 0.5649591241196904\n",
      "Epoch 400, Loss: 0.5175224229139769\n",
      "Epoch 500, Loss: 0.4829662629670181\n",
      "Epoch 600, Loss: 0.4562227577494464\n",
      "Epoch 700, Loss: 0.43466131802310953\n",
      "Epoch 800, Loss: 0.41673859877790487\n",
      "Epoch 900, Loss: 0.4014819381730705\n",
      "################### ITERATION  3 ###################\n",
      "Epoch 0, Loss: 1.2820085809931032\n",
      "Epoch 100, Loss: 0.7979161521800313\n",
      "Epoch 200, Loss: 0.6423058484239904\n",
      "Epoch 300, Loss: 0.5673051137698519\n",
      "Epoch 400, Loss: 0.517746301794405\n",
      "Epoch 500, Loss: 0.48125941130743505\n",
      "Epoch 600, Loss: 0.4528782088056356\n",
      "Epoch 700, Loss: 0.42995577344952557\n",
      "Epoch 800, Loss: 0.4109131163439052\n",
      "Epoch 900, Loss: 0.3947422286685918\n",
      "################### ITERATION  4 ###################\n",
      "Epoch 0, Loss: 1.2444474470523912\n",
      "Epoch 100, Loss: 0.7870561254958305\n",
      "Epoch 200, Loss: 0.6341352123202065\n",
      "Epoch 300, Loss: 0.5616509907003896\n",
      "Epoch 400, Loss: 0.5148771439718444\n",
      "Epoch 500, Loss: 0.48083845565250954\n",
      "Epoch 600, Loss: 0.45449530123973686\n",
      "Epoch 700, Loss: 0.4332413801646021\n",
      "Epoch 800, Loss: 0.4155531903406149\n",
      "Epoch 900, Loss: 0.4004736011794888\n",
      "################### ITERATION  5 ###################\n",
      "Epoch 0, Loss: 1.24593610009624\n",
      "Epoch 100, Loss: 0.7927525789019436\n",
      "Epoch 200, Loss: 0.6402723612281545\n",
      "Epoch 300, Loss: 0.5675838967277544\n",
      "Epoch 400, Loss: 0.5203356506858203\n",
      "Epoch 500, Loss: 0.485807841392129\n",
      "Epoch 600, Loss: 0.45902885703259794\n",
      "Epoch 700, Loss: 0.43740600733490453\n",
      "Epoch 800, Loss: 0.4194136960674553\n",
      "Epoch 900, Loss: 0.4040880313439257\n",
      "################### ITERATION  6 ###################\n",
      "Epoch 0, Loss: 1.2736123961550057\n",
      "Epoch 100, Loss: 0.789102224673733\n",
      "Epoch 200, Loss: 0.6339579944855707\n",
      "Epoch 300, Loss: 0.5609887202086397\n",
      "Epoch 400, Loss: 0.5133186627245105\n",
      "Epoch 500, Loss: 0.47829877697315887\n",
      "Epoch 600, Loss: 0.4510101199726324\n",
      "Epoch 700, Loss: 0.42887959323214087\n",
      "Epoch 800, Loss: 0.4103899006504366\n",
      "Epoch 900, Loss: 0.39458093989460913\n",
      "################### ITERATION  7 ###################\n",
      "Epoch 0, Loss: 1.2182151936747796\n",
      "Epoch 100, Loss: 0.7874304808877997\n",
      "Epoch 200, Loss: 0.6371245279303351\n",
      "Epoch 300, Loss: 0.5642349565761382\n",
      "Epoch 400, Loss: 0.5164641792985054\n",
      "Epoch 500, Loss: 0.4812619846326887\n",
      "Epoch 600, Loss: 0.45374565555214547\n",
      "Epoch 700, Loss: 0.43136855581525657\n",
      "Epoch 800, Loss: 0.41262640350121516\n",
      "Epoch 900, Loss: 0.3965649976017546\n",
      "################### ITERATION  8 ###################\n",
      "Epoch 0, Loss: 1.25102960426369\n",
      "Epoch 100, Loss: 0.7946045633846442\n",
      "Epoch 200, Loss: 0.6389350949301397\n",
      "Epoch 300, Loss: 0.5645649695478072\n",
      "Epoch 400, Loss: 0.5164473583877058\n",
      "Epoch 500, Loss: 0.48140215773199035\n",
      "Epoch 600, Loss: 0.4542957557080519\n",
      "Epoch 700, Loss: 0.4324608301936271\n",
      "Epoch 800, Loss: 0.41433032708997547\n",
      "Epoch 900, Loss: 0.39891532306092975\n",
      "################### ITERATION  9 ###################\n",
      "Epoch 0, Loss: 1.2348975528877852\n",
      "Epoch 100, Loss: 0.7819414259725238\n",
      "Epoch 200, Loss: 0.6292469700170553\n",
      "Epoch 300, Loss: 0.5566417915475446\n",
      "Epoch 400, Loss: 0.5096800257363145\n",
      "Epoch 500, Loss: 0.4754984334912143\n",
      "Epoch 600, Loss: 0.4490720693090983\n",
      "Epoch 700, Loss: 0.4277879856109348\n",
      "Epoch 800, Loss: 0.410113082030466\n",
      "Epoch 900, Loss: 0.39508135765854036\n",
      "################### ITERATION  10 ###################\n",
      "Epoch 0, Loss: 1.2339892565697\n",
      "Epoch 100, Loss: 0.7908255460891005\n",
      "Epoch 200, Loss: 0.636004320273591\n",
      "Epoch 300, Loss: 0.5615926197503868\n",
      "Epoch 400, Loss: 0.5135789276690571\n",
      "Epoch 500, Loss: 0.47861734707825093\n",
      "Epoch 600, Loss: 0.4515484285669504\n",
      "Epoch 700, Loss: 0.42971416657744965\n",
      "Epoch 800, Loss: 0.4115583297856205\n",
      "Epoch 900, Loss: 0.39610002737646627\n",
      "Moyenne Accuracy: 0.8866666666666667, écart type: 0.07333333333333333\n"
     ]
    }
   ],
   "source": [
    "def cross_validation(X, y, k, epochs, learning_rate):\n",
    "    kf = KFold(n_splits=k, shuffle=True, random_state=42)\n",
    "    accuracies = []\n",
    "    i = 1\n",
    "    \n",
    "    for train_index, test_index in kf.split(X):\n",
    "        print(\"################### ITERATION \", i, \"###################\")\n",
    "        X_train, X_test = X[train_index], X[test_index]\n",
    "        y_train, y_test = y[train_index], y[test_index]\n",
    "        \n",
    "        # Réinitialiser les poids et les biais pour chaque pli\n",
    "        input_size = X_train.shape[1]\n",
    "        hidden_size = 10  # Nombre de neurones dans la couche cachée\n",
    "        output_size = y_train.shape[1]\n",
    "\n",
    "        np.random.seed(42)\n",
    "        global weights_input_hidden, bias_hidden, weights_hidden_output, bias_output\n",
    "        weights_input_hidden = np.random.randn(input_size, hidden_size)\n",
    "        bias_hidden = np.zeros((1, hidden_size))\n",
    "        weights_hidden_output = np.random.randn(hidden_size, output_size)\n",
    "        bias_output = np.zeros((1, output_size))\n",
    "        \n",
    "        # Entraîner le modèle\n",
    "        train(X_train, y_train, epochs, learning_rate)\n",
    "        \n",
    "        # Prédictions et évaluation\n",
    "        y_pred = predict(X_test)\n",
    "        y_true = np.argmax(y_test, axis=1)\n",
    "        accuracy = np.mean(y_pred == y_true)\n",
    "        accuracies.append(accuracy)\n",
    "        \n",
    "        i += 1\n",
    "    \n",
    "    print(f'Moyenne Accuracy: {np.mean(accuracies)}, écart type: {np.std(accuracies)}')\n",
    "    \n",
    "    return accuracies\n",
    "\n",
    "# Exemple d'utilisation\n",
    "accuracies = cross_validation(X, y, k=10, epochs=1000, learning_rate=0.01)\n"
   ]
  },
  {
   "cell_type": "code",
   "execution_count": 10,
   "id": "f3963baf",
   "metadata": {},
   "outputs": [
    {
     "data": {
      "image/png": "[encoded data removed]",
      "text/plain": [
       "<Figure size 432x288 with 1 Axes>"
      ]
     },
     "metadata": {
      "needs_background": "light"
     },
     "output_type": "display_data"
    }
   ],
   "source": [
    "# Tracer un graphique linéaire des précisions\n",
    "plt.plot(range(1, len(accuracies) + 1), accuracies, marker='o', linestyle='-', color='b')\n",
    "plt.title('Accuracies de la validation croisée')\n",
    "plt.xlabel('Iteration')\n",
    "plt.ylabel('Accuracy')\n",
    "plt.xticks(range(1, len(accuracies) + 1))\n",
    "plt.grid(True)\n",
    "plt.show()"
   ]
  },
  {
   "cell_type": "code",
   "execution_count": 11,
   "id": "e6c56634",
   "metadata": {},
   "outputs": [
    {
     "data": {
      "image/png": "[encoded data removed]",
      "text/plain": [
       "<Figure size 432x288 with 1 Axes>"
      ]
     },
     "metadata": {
      "needs_background": "light"
     },
     "output_type": "display_data"
    }
   ],
   "source": [
    "# Tracer la courbe de densité des précisions\n",
    "sns.kdeplot(accuracies, fill=True)\n",
    "plt.title('Courbe de densité des Accuracies')\n",
    "plt.xlabel('Accuracy')\n",
    "plt.ylabel('Densité')\n",
    "plt.show()"
   ]
  },
  {
   "cell_type": "code",
   "execution_count": null,
   "id": "ba1a0df3",
   "metadata": {},
   "outputs": [],
   "source": []
  }
 ],
 "metadata": {
  "kernelspec": {
   "display_name": "Python 3 (ipykernel)",
   "language": "python",
   "name": "python3"
  },
  "language_info": {
   "codemirror_mode": {
    "name": "ipython",
    "version": 3
   },
   "file_extension": ".py",
   "mimetype": "text/x-python",
   "name": "python",
   "nbconvert_exporter": "python",
   "pygments_lexer": "ipython3",
   "version": "3.9.7"
  }
 },
 "nbformat": 4,
 "nbformat_minor": 5
}
